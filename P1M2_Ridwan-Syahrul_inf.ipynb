{
 "cells": [
  {
   "cell_type": "markdown",
   "metadata": {},
   "source": [
    "# Perkenalan"
   ]
  },
  {
   "cell_type": "markdown",
   "metadata": {},
   "source": [
    "'================================================='\n",
    "\n",
    "Milestone 2\n",
    "\n",
    "Nama  : Ridwan Muhammad Syahrul\n",
    "\n",
    "Batch : RMT-029\n",
    "\n",
    "Program ini dimaksudkan untuk mengecek model yang sudah dibuat (dalam kasus ini model yang digunakan adalah Random Forest) dengan data baru.\n",
    "\n",
    "'================================================='"
   ]
  },
  {
   "cell_type": "markdown",
   "metadata": {},
   "source": [
    "# Library Import"
   ]
  },
  {
   "cell_type": "code",
   "execution_count": 4,
   "metadata": {},
   "outputs": [],
   "source": [
    "import pandas as pd\n",
    "import pickle as pkl"
   ]
  },
  {
   "cell_type": "code",
   "execution_count": 5,
   "metadata": {},
   "outputs": [],
   "source": [
    "# Load model\n",
    "with open('best_model.pkl', 'rb') as file_1:\n",
    "    model = pkl.load(file_1)"
   ]
  },
  {
   "cell_type": "markdown",
   "metadata": {},
   "source": [
    "# Model Inference"
   ]
  },
  {
   "cell_type": "code",
   "execution_count": 3,
   "metadata": {},
   "outputs": [
    {
     "data": {
      "text/html": [
       "<div>\n",
       "<style scoped>\n",
       "    .dataframe tbody tr th:only-of-type {\n",
       "        vertical-align: middle;\n",
       "    }\n",
       "\n",
       "    .dataframe tbody tr th {\n",
       "        vertical-align: top;\n",
       "    }\n",
       "\n",
       "    .dataframe thead th {\n",
       "        text-align: right;\n",
       "    }\n",
       "</style>\n",
       "<table border=\"1\" class=\"dataframe\">\n",
       "  <thead>\n",
       "    <tr style=\"text-align: right;\">\n",
       "      <th></th>\n",
       "      <th>merchant</th>\n",
       "      <th>category</th>\n",
       "      <th>amt</th>\n",
       "      <th>gender</th>\n",
       "      <th>state</th>\n",
       "      <th>city_pop</th>\n",
       "      <th>job</th>\n",
       "      <th>unix_time</th>\n",
       "    </tr>\n",
       "  </thead>\n",
       "  <tbody>\n",
       "    <tr>\n",
       "      <th>0</th>\n",
       "      <td>fraud_Kirlin and Sons</td>\n",
       "      <td>travel</td>\n",
       "      <td>60.4</td>\n",
       "      <td>F</td>\n",
       "      <td>FL</td>\n",
       "      <td>12049</td>\n",
       "      <td>Set designer</td>\n",
       "      <td>1388534349</td>\n",
       "    </tr>\n",
       "    <tr>\n",
       "      <th>1</th>\n",
       "      <td>fraud_Johnston-Casper</td>\n",
       "      <td>personal_care</td>\n",
       "      <td>120.0</td>\n",
       "      <td>M</td>\n",
       "      <td>MI</td>\n",
       "      <td>62019</td>\n",
       "      <td>Musician</td>\n",
       "      <td>1371816865</td>\n",
       "    </tr>\n",
       "    <tr>\n",
       "      <th>2</th>\n",
       "      <td>fraud_Sporer-Keebler</td>\n",
       "      <td>health_fitness</td>\n",
       "      <td>80.0</td>\n",
       "      <td>M</td>\n",
       "      <td>NY</td>\n",
       "      <td>47235</td>\n",
       "      <td>Mechanical engineer</td>\n",
       "      <td>1388534374</td>\n",
       "    </tr>\n",
       "  </tbody>\n",
       "</table>\n",
       "</div>"
      ],
      "text/plain": [
       "                merchant        category    amt gender state city_pop  \\\n",
       "0  fraud_Kirlin and Sons          travel   60.4      F    FL    12049   \n",
       "1  fraud_Johnston-Casper   personal_care  120.0      M    MI    62019   \n",
       "2   fraud_Sporer-Keebler  health_fitness   80.0      M    NY    47235   \n",
       "\n",
       "                   job   unix_time  \n",
       "0         Set designer  1388534349  \n",
       "1             Musician  1371816865  \n",
       "2  Mechanical engineer  1388534374  "
      ]
     },
     "execution_count": 3,
     "metadata": {},
     "output_type": "execute_result"
    }
   ],
   "source": [
    "# Data baru yang akan diprediksi menggunakan model yang sudah dibuat\n",
    "mod_inf = {\n",
    "      'merchant': ['fraud_Kirlin and Sons','fraud_Johnston-Casper','fraud_Sporer-Keebler'],\n",
    "      'category':['travel', 'personal_care', 'health_fitness'],\n",
    "      'amt':[60.4, 120, 80],\n",
    "      'gender':['F','M','M'],\n",
    "      'state':['FL','MI','NY'],\n",
    "      'city_pop':['12049','62019','47235'],\n",
    "      'job':['Set designer','Musician','Mechanical engineer'],\n",
    "      'unix_time':[1388534349, 1371816865, 1388534374]\n",
    "                  }\n",
    "mod_inf = pd.DataFrame(mod_inf)\n",
    "mod_inf"
   ]
  },
  {
   "cell_type": "code",
   "execution_count": 6,
   "metadata": {},
   "outputs": [
    {
     "data": {
      "text/plain": [
       "array([0, 0, 0], dtype=int64)"
      ]
     },
     "execution_count": 6,
     "metadata": {},
     "output_type": "execute_result"
    }
   ],
   "source": [
    "# Proses prediksi\n",
    "prediksi = model.predict(mod_inf)\n",
    "prediksi"
   ]
  }
 ],
 "metadata": {
  "kernelspec": {
   "display_name": "Python 3",
   "language": "python",
   "name": "python3"
  },
  "language_info": {
   "codemirror_mode": {
    "name": "ipython",
    "version": 3
   },
   "file_extension": ".py",
   "mimetype": "text/x-python",
   "name": "python",
   "nbconvert_exporter": "python",
   "pygments_lexer": "ipython3",
   "version": "3.12.2"
  }
 },
 "nbformat": 4,
 "nbformat_minor": 2
}
